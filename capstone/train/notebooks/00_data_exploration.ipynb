{
 "cells": [
  {
   "cell_type": "code",
   "execution_count": null,
   "metadata": {},
   "outputs": [],
   "source": [
    "import pandas as pd\n",
    "from matplotlib import pyplot as plt"
   ]
  },
  {
   "cell_type": "code",
   "execution_count": null,
   "metadata": {},
   "outputs": [],
   "source": [
    "dataset = pd.read_csv('../data/bq-results-20200205-092131-ioej0ewh4vcc.csv')\n",
    "dataset.head()"
   ]
  },
  {
   "cell_type": "code",
   "execution_count": null,
   "metadata": {},
   "outputs": [],
   "source": [
    "tag_counts = dataset.groupby('tag_name')['post_id'].nunique()\n",
    "tag_counts.sort_values(inplace=True)\n",
    "\n",
    "fig = plt.figure(figsize=(7, 20))\n",
    "ax = plt.gca()\n",
    "tag_counts.tail(100).plot.barh(ax=ax)\n",
    "ax.set_xscale('log')\n",
    "ax.set_title('Top 100 tags')\n",
    "plt.show()\n",
    "\n",
    "fig = plt.figure(figsize=(7, 20))\n",
    "ax = plt.gca()\n",
    "tag_counts.head(100).plot.barh(ax=ax)\n",
    "ax.set_xscale('log')\n",
    "ax.set_title('Bottom 100 tags')\n",
    "plt.show()"
   ]
  }
 ],
 "metadata": {
  "kernelspec": {
   "display_name": "ml_in_prod",
   "language": "python",
   "name": "ml_in_prod"
  },
  "language_info": {
   "codemirror_mode": {
    "name": "ipython",
    "version": 3
   },
   "file_extension": ".py",
   "mimetype": "text/x-python",
   "name": "python",
   "nbconvert_exporter": "python",
   "pygments_lexer": "ipython3",
   "version": "3.7.3"
  }
 },
 "nbformat": 4,
 "nbformat_minor": 2
}

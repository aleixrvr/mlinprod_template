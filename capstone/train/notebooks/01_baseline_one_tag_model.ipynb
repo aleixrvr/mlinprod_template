{
 "cells": [
  {
   "cell_type": "code",
   "execution_count": null,
   "metadata": {},
   "outputs": [],
   "source": [
    "import pandas as pd\n",
    "from matplotlib import pyplot as plt\n"
   ]
  },
  {
   "cell_type": "code",
   "execution_count": null,
   "metadata": {},
   "outputs": [],
   "source": [
    "dataset = pd.read_csv('../data/bq-results-20200205-092131-ioej0ewh4vcc.csv')\n",
    "dataset.head()"
   ]
  },
  {
   "cell_type": "code",
   "execution_count": null,
   "metadata": {},
   "outputs": [],
   "source": [
    "def filter_tag_position(position):\n",
    "    def filter_function(df):\n",
    "        return df.loc[df.tag_position == position]\n",
    "    return filter_function\n",
    "\n",
    "def filter_tags_with_less_than_x_samples(x):\n",
    "    def filter_function(df):\n",
    "        tag_counts = df.groupby('tag_name')['post_id'].nunique()\n",
    "        tags_with_at_least_10 = tag_counts[tag_counts >= x].index.values\n",
    "        return df.loc[df.tag_name.isin(tags_with_at_least_10)]\n",
    "    return filter_function\n",
    "\n",
    "processed_dataset = dataset.copy()\\\n",
    "    .pipe(filter_tag_position(0))\\\n",
    "    .pipe(filter_tags_with_less_than_x_samples(100))\n",
    "\n",
    "printprocessed_dataset.shape[0], processed_dataset['tag_name'].nunique()"
   ]
  },
  {
   "cell_type": "code",
   "execution_count": null,
   "metadata": {},
   "outputs": [],
   "source": [
    "# train, test, validation split\n",
    "from sklearn.model_selection import train_test_split\n",
    "from sklearn.feature_extraction.text import HashingVectorizer\n",
    "from sklearn.linear_model import SGDClassifier\n",
    "from sklearn.pipeline import Pipeline\n",
    "from sklearn.metrics import accuracy_score, classification_report\n",
    "\n",
    "x_train, x_non_train, y_train, y_non_train = train_test_split(\n",
    "    processed_dataset['title'], processed_dataset['tag_name'], \n",
    "    train_size=0.8, \n",
    "    stratify=processed_dataset['tag_name'])\n",
    "\n",
    "x_test, x_val, y_test, y_val = train_test_split(\n",
    "    x_non_train, y_non_train, \n",
    "    train_size=0.5,\n",
    "    stratify=y_non_train)\n",
    "\n",
    "pipeline = Pipeline([\n",
    "    ('feature_extraction', HashingVectorizer()),\n",
    "    ('model', SGDClassifier())\n",
    "])\n",
    "\n",
    "model = pipeline.fit(x_train, y_train)\n",
    "\n",
    "y_test_hat = model.predict(x_test)\n",
    "\n",
    "print(classification_report(y_test_hat, y_test))"
   ]
  }
 ],
 "metadata": {
  "kernelspec": {
   "display_name": "ml_in_prod",
   "language": "python",
   "name": "ml_in_prod"
  },
  "language_info": {
   "codemirror_mode": {
    "name": "ipython",
    "version": 3
   },
   "file_extension": ".py",
   "mimetype": "text/x-python",
   "name": "python",
   "nbconvert_exporter": "python",
   "pygments_lexer": "ipython3",
   "version": "3.7.3"
  }
 },
 "nbformat": 4,
 "nbformat_minor": 2
}
